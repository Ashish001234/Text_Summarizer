{
 "cells": [
  {
   "cell_type": "code",
   "execution_count": 1,
   "id": "acacffaf",
   "metadata": {},
   "outputs": [],
   "source": [
    "import os\n",
    "from pathlib import Path\n",
    "import logging"
   ]
  },
  {
   "cell_type": "code",
   "execution_count": 2,
   "id": "816a618c",
   "metadata": {},
   "outputs": [],
   "source": [
    "logging.basicConfig(level=logging.INFO, format= '[%(asctime)s]: %(message)s: ')"
   ]
  },
  {
   "cell_type": "code",
   "execution_count": 3,
   "id": "8a0e63ad",
   "metadata": {},
   "outputs": [],
   "source": [
    "project_name = \"textSummarizer\""
   ]
  },
  {
   "cell_type": "code",
   "execution_count": 4,
   "id": "9ff9b446",
   "metadata": {},
   "outputs": [],
   "source": [
    "list_of_files = [\n",
    "    \".github/workflows/.gitkeep\",\n",
    "    f\"src/{project_name}/__init__.py\",\n",
    "    f\"src/{project_name}/components/__init__.py\",\n",
    "    f\"src/{project_name}/utils/__init__.py\",\n",
    "    f\"src/{project_name}/utils/common.py\",\n",
    "    f\"src/{project_name}/logging/__init__.py\",\n",
    "    f\"src/{project_name}/config/__init__.py\",\n",
    "    f\"src/{project_name}/config/configuration.py\",\n",
    "    f\"src/{project_name}/pipeline/__init__.py\",\n",
    "    f\"src/{project_name}/entity/__init__.py\",\n",
    "    f\"src/{project_name}/constants/__init__.py\",\n",
    "    \"config/config.yaml\",\n",
    "    \"param.yaml\",\n",
    "    \"app.py\",\n",
    "    \"main.py\",\n",
    "    \"Dockerfile\",\n",
    "    \"requirements.txt\",\n",
    "    \"setup.py\",\n",
    "    \"research/trials.ipynb\"\n",
    "]"
   ]
  },
  {
   "cell_type": "code",
   "execution_count": 8,
   "id": "f2ce4825",
   "metadata": {},
   "outputs": [
    {
     "name": "stderr",
     "output_type": "stream",
     "text": [
      "[2023-10-13 19:58:13,416]: Creating directory:.github\\workflows for the file .gitkeep: \n",
      "[2023-10-13 19:58:13,424]: Create empty file: .github\\workflows\\.gitkeep: \n",
      "[2023-10-13 19:58:13,424]: Creating directory:src\\textSummarizer for the file __init__.py: \n",
      "[2023-10-13 19:58:13,432]: Create empty file: src\\textSummarizer\\__init__.py: \n",
      "[2023-10-13 19:58:13,432]: Creating directory:src\\textSummarizer\\components for the file __init__.py: \n",
      "[2023-10-13 19:58:13,441]: Create empty file: src\\textSummarizer\\components\\__init__.py: \n",
      "[2023-10-13 19:58:13,441]: Creating directory:src\\textSummarizer\\utils for the file __init__.py: \n",
      "[2023-10-13 19:58:13,441]: Create empty file: src\\textSummarizer\\utils\\__init__.py: \n",
      "[2023-10-13 19:58:13,441]: Creating directory:src\\textSummarizer\\utils for the file common.py: \n",
      "[2023-10-13 19:58:13,449]: Create empty file: src\\textSummarizer\\utils\\common.py: \n",
      "[2023-10-13 19:58:13,449]: Creating directory:src\\textSummarizer\\logging for the file __init__.py: \n",
      "[2023-10-13 19:58:13,449]: Create empty file: src\\textSummarizer\\logging\\__init__.py: \n",
      "[2023-10-13 19:58:13,473]: Creating directory:src\\textSummarizer\\config for the file __init__.py: \n",
      "[2023-10-13 19:58:13,473]: Create empty file: src\\textSummarizer\\config\\__init__.py: \n",
      "[2023-10-13 19:58:13,481]: Creating directory:src\\textSummarizer\\config for the file configuration.py: \n",
      "[2023-10-13 19:58:13,481]: Create empty file: src\\textSummarizer\\config\\configuration.py: \n",
      "[2023-10-13 19:58:13,489]: Creating directory:src\\textSummarizer\\pipeline for the file __init__.py: \n",
      "[2023-10-13 19:58:13,492]: Create empty file: src\\textSummarizer\\pipeline\\__init__.py: \n",
      "[2023-10-13 19:58:13,492]: Creating directory:src\\textSummarizer\\entity for the file __init__.py: \n",
      "[2023-10-13 19:58:13,497]: Create empty file: src\\textSummarizer\\entity\\__init__.py: \n",
      "[2023-10-13 19:58:13,497]: Creating directory:src\\textSummarizer\\constants for the file __init__.py: \n",
      "[2023-10-13 19:58:13,497]: Create empty file: src\\textSummarizer\\constants\\__init__.py: \n",
      "[2023-10-13 19:58:13,506]: Creating directory:config for the file config.yaml: \n",
      "[2023-10-13 19:58:13,506]: Create empty file: config\\config.yaml: \n",
      "[2023-10-13 19:58:13,514]: Create empty file: param.yaml: \n",
      "[2023-10-13 19:58:13,514]: Create empty file: app.py: \n",
      "[2023-10-13 19:58:13,514]: Create empty file: main.py: \n",
      "[2023-10-13 19:58:13,522]: Create empty file: Dockerfile: \n",
      "[2023-10-13 19:58:13,525]: Create empty file: requirements.txt: \n",
      "[2023-10-13 19:58:13,530]: Create empty file: setup.py: \n",
      "[2023-10-13 19:58:13,530]: Creating directory:research for the file trials.ipynb: \n",
      "[2023-10-13 19:58:13,538]: Create empty file: research\\trials.ipynb: \n"
     ]
    }
   ],
   "source": [
    "for filepath in list_of_files:\n",
    "    filepath = Path(filepath)\n",
    "    filedir, filename = os.path.split(filepath)\n",
    "    \n",
    "    if filedir != \"\":\n",
    "        os.makedirs(filedir, exist_ok=True)\n",
    "        logging.info(f\"Creating directory:{filedir} for the file {filename}\")\n",
    "    \n",
    "    if (not os.path.exists(filepath)) or (os.path.getsize(filepath)== 0):\n",
    "        with open(filepath, 'w') as f:\n",
    "            pass\n",
    "        logging.info(f\"Create empty file: {filepath}\")\n",
    "\n",
    "    else:\n",
    "        logging.info(f\"{filename} \")"
   ]
  },
  {
   "cell_type": "code",
   "execution_count": null,
   "id": "f9c7b3f7",
   "metadata": {},
   "outputs": [],
   "source": []
  }
 ],
 "metadata": {
  "kernelspec": {
   "display_name": "Python 3 (ipykernel)",
   "language": "python",
   "name": "python3"
  },
  "language_info": {
   "codemirror_mode": {
    "name": "ipython",
    "version": 3
   },
   "file_extension": ".py",
   "mimetype": "text/x-python",
   "name": "python",
   "nbconvert_exporter": "python",
   "pygments_lexer": "ipython3",
   "version": "3.9.13"
  }
 },
 "nbformat": 4,
 "nbformat_minor": 5
}
